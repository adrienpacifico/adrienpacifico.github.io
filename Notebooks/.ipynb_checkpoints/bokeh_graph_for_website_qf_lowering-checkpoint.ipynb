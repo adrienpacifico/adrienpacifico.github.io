{
 "cells": [
  {
   "cell_type": "markdown",
   "metadata": {},
   "source": [
    "Press `shift`+`enter` to run cells"
   ]
  },
  {
   "cell_type": "code",
   "execution_count": null,
   "metadata": {},
   "outputs": [],
   "source": [
    "%matplotlib inline"
   ]
  },
  {
   "cell_type": "code",
   "execution_count": null,
   "metadata": {},
   "outputs": [],
   "source": [
    "import bokeh\n",
    "from bokeh.plotting import figure, output_file, show, ColumnDataSource\n",
    "import bokeh.models as pltm\n",
    "from bokeh.io import output_notebook, show\n",
    "\n",
    "import matplotlib\n",
    "import matplotlib.pyplot as plt\n",
    "from matplotlib.ticker import FuncFormatter\n",
    "import pandas as pd\n",
    "import numpy as np\n",
    "pd.set_option('display.max_columns', 250)\n",
    "pd.set_option('precision', 0)\n",
    "\n",
    "\n",
    "#Specific usage imports\n",
    "from openfisca_core import periods, rates\n",
    "import openfisca_france"
   ]
  },
  {
   "cell_type": "code",
   "execution_count": null,
   "metadata": {},
   "outputs": [],
   "source": [
    "output_notebook()"
   ]
  },
  {
   "cell_type": "markdown",
   "metadata": {
    "slideshow": {
     "slide_type": "slide"
    }
   },
   "source": [
    "From the `tax-benefit-system` we create a scenario (or test case) that we will use to run our simulations."
   ]
  },
  {
   "cell_type": "code",
   "execution_count": null,
   "metadata": {},
   "outputs": [],
   "source": [
    "tax_benefit_system = openfisca_france.FranceTaxBenefitSystem()"
   ]
  },
  {
   "cell_type": "code",
   "execution_count": null,
   "metadata": {
    "slideshow": {
     "slide_type": "subslide"
    }
   },
   "outputs": [],
   "source": [
    "ax_variable_max = 280000\n",
    "ax_variable_min = 30_000\n",
    "count = 10000\n",
    "\n",
    "year_lag_max = 4\n",
    "def make_scenario(couple = True, mar_pacs = True, nombre_enfants = 0, year = None, tax_benefit_system = tax_benefit_system,\n",
    "                                    axes_variable = 'salaire_de_base',  ax_variable_max = ax_variable_max, ax_variable_min = ax_variable_min,\n",
    "                                    count = count,count_span = None, age = 12, salaire_de_base_conjoint = 0):\n",
    "    if mar_pacs: assert couple == True\n",
    "    if count is None: count =  (ax_variable_max - ax_variable_min)/count_span #Fais une simulation par tranche de 10 euros brut\n",
    "    \n",
    "    enfant = [dict(age = age)]\n",
    "    enfants = enfant * nombre_enfants\n",
    "    \n",
    "    scenario = tax_benefit_system.new_scenario().init_single_entity(\n",
    "        axes = [\n",
    "            [dict(count = count, \n",
    "                  min = ax_variable_min,\n",
    "                  max = ax_variable_max,\n",
    "                  name = axes_variable,\n",
    "                  period = year-fill_lag) for fill_lag in range(year_lag_max)]\n",
    "            ],\n",
    "        period = year,\n",
    "        parent1 = dict(\n",
    "            age = 40,\n",
    "            ppe_du_sa = 6020,\n",
    "            statut_marital = u\"pacse\",\n",
    "            ) if mar_pacs else dict(\n",
    "            age = 40,\n",
    "            ppe_du_sa = 6020, statut_marital = u\"celibataire\" \n",
    "            ),\n",
    "        parent2 = dict(age = 40,ppe_du_sa = 6020,statut_marital = \"pacse\", salaire_de_base = salaire_de_base_conjoint) if mar_pacs else (dict(age = 40,ppe_du_sa = 6020,salaire_de_base = salaire_de_base_conjoint, statut_marital = u\"celibataire\") if couple == True else None) ,\n",
    "        enfants = enfants,\n",
    "        menage = dict(\n",
    "            loyer = 12000,\n",
    "            statut_occupation_logement = \"locataire_vide\",\n",
    "            depcom = 13012,\n",
    "            ),\n",
    "        foyer_fiscal = dict(\n",
    "            f7ea = nombre_enfants * ((age<15) * age>=11), #Nombre enfants à charge poursuivants leurs études : collège\n",
    "            f7ec = nombre_enfants * ((age<19) * age>=15), #Nombre enfants à charge poursuivants leurs études : lycée\n",
    "            f7ef = nombre_enfants * ((age<26) * age>=19), #Nombre enfants à charge poursuivants leurs études : Enseignement supérieur\n",
    "            caseT = False if couple == True else True * (nombre_enfants>0)# Warning ! TODO: mieux gérer, à priori pose pas de problème si True avec un couple marié...\n",
    "            ),\n",
    "        )\n",
    "\n",
    "    if (couple == True) and (mar_pacs==False):\n",
    "        test_case = scenario.test_case\n",
    "        test_case[\"foyers_fiscaux\"][0]['declarants']  = ['ind0']\n",
    "        test_case[\"foyers_fiscaux\"].append({'declarants': ['ind1'],'id': 1,'caseT': False })\n",
    "        scenario.test_case = test_case\n",
    "        return scenario\n",
    "    else:\n",
    "        return scenario\n",
    "        \n",
    "        \n"
   ]
  },
  {
   "cell_type": "code",
   "execution_count": null,
   "metadata": {},
   "outputs": [],
   "source": [
    "simulation_dict = dict()\n",
    "for nb_enf in range(0,7):\n",
    "    simulation_dict[nb_enf] = dict()\n",
    "    for year in range(2007,2016): \n",
    "        simulation_dict[nb_enf][year] = make_scenario(couple = True,mar_pacs=True,nombre_enfants=nb_enf,year = year, count= 1000).new_simulation()"
   ]
  },
  {
   "cell_type": "code",
   "execution_count": null,
   "metadata": {},
   "outputs": [],
   "source": [
    "simulation_dict_single = dict()\n",
    "for nb_enf in range(0,6):\n",
    "    simulation_dict_single[nb_enf] = dict()\n",
    "    for year in range(2010,2016): \n",
    "        simulation_dict_single[nb_enf][year] = make_scenario(couple = False, mar_pacs=False, nombre_enfants=nb_enf,year = year, count=1000).new_simulation()"
   ]
  },
  {
   "cell_type": "code",
   "execution_count": null,
   "metadata": {},
   "outputs": [],
   "source": [
    "smooth = 2"
   ]
  },
  {
   "cell_type": "code",
   "execution_count": null,
   "metadata": {},
   "outputs": [],
   "source": [
    "source_dict_2013 = dict()\n",
    "for child in range(6):\n",
    "    avantage_qf_2011 = simulation_dict[child][2011].calculate(\"avantage_qf\", period = 2011)\n",
    "    avantage_qf_2013 = simulation_dict[child][2013].calculate(\"avantage_qf\", period = 2013)\n",
    "    reform_cost = avantage_qf_2013 - avantage_qf_2011\n",
    "    revdisp = simulation_dict[child][2013].calculate(\"revenu_disponible\", period = 2013)\n",
    "    \n",
    "\n",
    "    \n",
    "    share_of_disposable_income = reform_cost/revdisp\n",
    "    \n",
    "    rni_smooth = simulation_dict[child][2011].calculate_add(\"rni\",2011)[::smooth]\n",
    "    irpp_smooth = -simulation_dict[child][2011].calculate_add(\"irpp\",2011)[::smooth]\n",
    "    mtr_2011 = rates.marginal_rate(irpp_smooth,rni_smooth)\n",
    "    mtr_2011 = np.repeat(np.insert(mtr_2011, 0, 0),smooth)\n",
    "    \n",
    "    rni_smooth = simulation_dict[child][2014].calculate_add(\"rni\",2014)[::smooth]\n",
    "    irpp_smooth = -simulation_dict[child][2014].calculate_add(\"irpp\",2014)[::smooth]\n",
    "    mtr_2014 = rates.marginal_rate(irpp_smooth,rni_smooth)\n",
    "    mtr_2014 = np.repeat(np.insert(mtr_2014, 0, 0),smooth)\n",
    "    \n",
    "    df = pd.DataFrame({'rbg':simulation_dict[child][2013].calculate(\"rbg\", period = 2013),\n",
    "                       'rni':simulation_dict[child][2013].calculate(\"rni\", period = 2013),\n",
    "                       'irpp': - simulation_dict[child][2013].calculate(\"irpp\", period = 2013),\n",
    "                       'decote':  simulation_dict[child][2013].calculate(\"decote_gain_fiscal\", period = 2013),\n",
    "                       'avantage_qf':simulation_dict[child][2013].calculate(\"avantage_qf\", period = 2013),\n",
    "                       'avantage_qf_2013':simulation_dict[child][2013].calculate(\"avantage_qf\", period = 2013),\n",
    "                       'child_number':simulation_dict[child][2013].calculate_add(\"nb_pac\", period = 2013),\n",
    "                       'reform_cost': reform_cost,\n",
    "                       'mtr_2011' : 1-mtr_2011,\n",
    "                       'mtr_2014' : 1-mtr_2014,\n",
    "                       'share_of_D_income': share_of_disposable_income*100,\n",
    "                      })\n",
    "    source = ColumnDataSource(data=df)\n",
    "    source_dict_2013[child] = source"
   ]
  },
  {
   "cell_type": "code",
   "execution_count": null,
   "metadata": {},
   "outputs": [],
   "source": [
    "source_dict_2011 = dict()\n",
    "for child in range(6):\n",
    "    avantage_qf_2011 = simulation_dict[child][2011].calculate(\"avantage_qf\", period = 2011)\n",
    "    avantage_qf_2013 = simulation_dict[child][2013].calculate(\"avantage_qf\", period = 2013)\n",
    "    reform_cost = avantage_qf_2011 - avantage_qf_2013\n",
    "    revdisp = simulation_dict[child][2013].calculate(\"revenu_disponible\", period = 2013)\n",
    "    \n",
    "\n",
    "    \n",
    "    share_of_disposable_income = reform_cost/revdisp\n",
    "    \n",
    "    revenu_disponible_smooth = simulation_dict[child][2011].calculate_add(\"revenu_disponible\",2011)[::smooth]\n",
    "    rni_smooth = simulation_dict[child][2011].calculate_add(\"rni\",2011)[::smooth]\n",
    "    irpp_smooth = -simulation_dict[child][2011].calculate_add(\"irpp\",2011)[::smooth]\n",
    "    mtr_2011 = rates.marginal_rate(irpp_smooth,rni_smooth)\n",
    "    mtr_2011 = np.repeat(np.insert(mtr_2011, 0, 0),smooth)\n",
    "    \n",
    "    rni_smooth = simulation_dict[child][2014].calculate_add(\"rni\",2014)[::smooth]\n",
    "    irpp_smooth = -simulation_dict[child][2014].calculate_add(\"irpp\",2014)[::smooth]\n",
    "    mtr_2014 = rates.marginal_rate(irpp_smooth,rni_smooth)\n",
    "    mtr_2014 = np.repeat(np.insert(mtr_2014, 0, 0),smooth)\n",
    "    \n",
    "    df = pd.DataFrame({'rbg':simulation_dict[child][2011].calculate(\"rbg\", period = 2011),\n",
    "                       'rni':simulation_dict[child][2011].calculate(\"rni\", period = 2011),\n",
    "                       'irpp': - simulation_dict[child][2011].calculate(\"irpp\", period = 2011),\n",
    "                       'decote':  simulation_dict[child][2011].calculate(\"decote_gain_fiscal\", period = 2011),\n",
    "                       'avantage_qf':simulation_dict[child][2011].calculate(\"avantage_qf\", period = 2011),\n",
    "                       'avantage_qf_2013':simulation_dict[child][2013].calculate(\"avantage_qf\", period = 2013),\n",
    "                       'child_number':simulation_dict[child][2013].calculate_add(\"nb_pac\", period = 2013),\n",
    "                       'reform_cost': reform_cost,\n",
    "                       'mtr_2011' : 1 -mtr_2011,\n",
    "                       'mtr_2014' : 1 - mtr_2014,\n",
    "                       'share_of_D_income': share_of_disposable_income*100,\n",
    "                      })\n",
    "    source = ColumnDataSource(data=df)\n",
    "    source_dict_2011[child] = source"
   ]
  },
  {
   "cell_type": "code",
   "execution_count": null,
   "metadata": {},
   "outputs": [],
   "source": [
    "\n",
    "import jinja2\n",
    "from bokeh.embed import components\n",
    "\n",
    "# IMPORTANT NOTE!! The version of BokehJS loaded in the template should match \n",
    "# the version of Bokeh installed locally.\n",
    "\n",
    "template = jinja2.Template(\"\"\"\n",
    "<!DOCTYPE html>\n",
    "<html lang=\"en-US\">\n",
    "\n",
    "<link\n",
    "    href=\"https://cdn.pydata.org/bokeh/release/bokeh-{0}.min.css\"\n",
    "    rel=\"stylesheet\" type=\"text/css\"\n",
    ">\n",
    "<script \n",
    "    src=\"https://cdn.pydata.org/bokeh/release/bokeh-{0}.min.js\"\n",
    "></script>\n",
    "\n",
    "<body>\n",
    "\n",
    "    \n",
    "    {{{{ script }}}}\n",
    "    \n",
    "    {{{{ div }}}}\n",
    "\n",
    "</body>\n",
    "\n",
    "</html>\n",
    "\"\"\".format(bokeh.__version__))\n",
    "p = figure(width=1000, height=500, title='Hover over points')"
   ]
  },
  {
   "cell_type": "code",
   "execution_count": null,
   "metadata": {},
   "outputs": [],
   "source": [
    "TOOLTIPS = \"\"\"\n",
    "    <style>\n",
    "        .bk-tooltip>div:not(:first-child) {display:none;}\n",
    "    </style>\n",
    "    <div>\n",
    "        <div class=\"container-fluid\">\n",
    "            \n",
    "            <span style=\"font-size: 15px; font-weight: bold;\">@child_number{0,0.} 👶: <br></span>\n",
    "            <span style=\"font-size: 15px ;\">   &nbsp  Income: @rbg{0,0.} € <br></span>\n",
    "            <span style=\"font-size: 15px ;\">   &nbsp  Tax: @irpp{0,0.} €</span>\n",
    "            <span style=\"font-size: 15px ;\">   &nbsp  Avantage_qf: @avantage_qf{0,0.} € <br></span>\n",
    " \n",
    "\n",
    "            <span style=\"font-size: 15px; font-weight: bold;\"> &nbsp  MTR:</span> <span style=\"font-size: 15px;\"> &nbsp 2011: @mtr_2011{0,.01}, 2014: @mtr_2014{0,.01}  <br></span>\n",
    "\n",
    "            <span style=\"font-size: 15px ;\">   &nbsp  Reform cost: @reform_cost{0,0.} €</span>\n",
    "            <span style=\"font-size: 15px ;\">   &nbsp  Share of Disposable Income: @share_of_D_income{0,0.00}% <br></span>\n",
    "            \n",
    "    </div>\n",
    "\"\"\""
   ]
  },
  {
   "cell_type": "code",
   "execution_count": null,
   "metadata": {},
   "outputs": [],
   "source": [
    "# https://bokeh.pydata.org/en/latest/docs/reference/models/tools.html\n",
    "# https://bokeh.pydata.org/en/latest/docs/reference/core/enums.html#bokeh.core.enums.TooltipAttachment"
   ]
  },
  {
   "cell_type": "code",
   "execution_count": null,
   "metadata": {
    "scrolled": false
   },
   "outputs": [],
   "source": [
    "from bokeh.models import Range1d\n",
    "from bokeh.models import NumeralTickFormatter\n",
    "p = figure(width=100, height=50, title='Fiscal gain from FQ',tooltips = TOOLTIPS)\n",
    "\n",
    "#p.add_tools(pltm.HoverTool(tooltips=TOOLTIPS, mode = \"vline\")\n",
    "#            )\n",
    "\n",
    "\n",
    "\n",
    "for child in range(1,4):\n",
    "    red_renderer_line = p.line(x='rni', y='avantage_qf', source=source_dict_2013[child], line_color=\"blue\", legend = \"2013\")\n",
    "    \n",
    "renderer_line_list = list()\n",
    "for child in range(1,4):\n",
    "    renderer_line_list.append(p.line(x='rni', y='avantage_qf', source=source_dict_2011[child], line_color=\"red\", legend = \"2011\"))\n",
    "p.sizing_mode = \"scale_width\"\n",
    "p.x_range=Range1d(40_000, 100_000)\n",
    "p.xaxis.formatter = NumeralTickFormatter(format=u\"0\")\n",
    "p.yaxis.axis_label = \"Fiscal gain in euros\"\n",
    "p.xaxis.axis_label = \"Taxable income in euros\"\n",
    "p.legend.location = \"top_left\"\n",
    "\n",
    "p.add_tools(pltm.HoverTool(tooltips=TOOLTIPS, mode = \"vline\", renderers=renderer_line_list)\n",
    "            )\n",
    "p.add_tools(pltm.HoverTool(tooltips=TOOLTIPS, mode = \"vline\", renderers=renderer_line_list[2:])\n",
    "            )\n",
    "\n",
    "\n",
    "show(p)\n",
    "script, div = components(p)"
   ]
  },
  {
   "cell_type": "code",
   "execution_count": null,
   "metadata": {},
   "outputs": [],
   "source": [
    "file2  = open(\"/Users/adrienpacifico/Informatique/adrienpacifico.github.io/docs/bokeh_graph.html\", \"w\")\n",
    "file2.write(template.render(script=script, div=div)) \n",
    "file2.close()\n",
    "from bokeh.io import reset_output\n",
    "reset_output()"
   ]
  },
  {
   "cell_type": "code",
   "execution_count": null,
   "metadata": {
    "scrolled": false
   },
   "outputs": [],
   "source": [
    "from IPython.display import HTML\n",
    "HTML(template.render(script=script, div=div))\n"
   ]
  },
  {
   "cell_type": "code",
   "execution_count": null,
   "metadata": {},
   "outputs": [],
   "source": []
  },
  {
   "cell_type": "code",
   "execution_count": null,
   "metadata": {},
   "outputs": [],
   "source": [
    "gain = simulation_dict[2][2011].calculate(\"avantage_qf\", period = 2011) ; print(gain.shape)\n",
    "print(np.where(gain<gain[::-1])[0][-1])\n",
    "simulation_dict[2][2011].calculate_add(\"salaire_net\", period = year)[::2+2][np.where(gain<gain[::-1])[0][-1]]"
   ]
  },
  {
   "cell_type": "code",
   "execution_count": null,
   "metadata": {},
   "outputs": [],
   "source": [
    "df = pd.DataFrame()\n",
    "for year in [2011,2013]:\n",
    "    s = pd.Series()\n",
    "    for nb_enf in range(1,7):\n",
    "        gain = simulation_dict[nb_enf][year].calculate(\"avantage_qf\", period = year)\n",
    "        s = s.append(pd.Series(simulation_dict[nb_enf][year].calculate_add(\"salaire_net\", period = year)[::2+nb_enf][np.where(gain<gain[-1])[0][-1]]))\n",
    "    df[year] =s \n",
    "#df.reset_index(inplace = True, drop = True);df.index.name = \"Nb child\" ;\n",
    "df.index = list(range(1,7));df.index.name = \"Children #\""
   ]
  },
  {
   "cell_type": "code",
   "execution_count": null,
   "metadata": {},
   "outputs": [],
   "source": [
    "df"
   ]
  },
  {
   "cell_type": "code",
   "execution_count": null,
   "metadata": {
    "scrolled": true
   },
   "outputs": [],
   "source": [
    "print(df.to_html())"
   ]
  },
  {
   "cell_type": "code",
   "execution_count": null,
   "metadata": {},
   "outputs": [],
   "source": []
  },
  {
   "cell_type": "code",
   "execution_count": null,
   "metadata": {},
   "outputs": [],
   "source": [
    "df = pd.DataFrame()\n",
    "for year in [2011,2013]:\n",
    "    s = pd.Series()\n",
    "    for nb_enf in range(1,7):\n",
    "        gain = simulation_dict[nb_enf][year].calculate(\"avantage_qf\", period = year)\n",
    "        s = s.append(pd.Series(simulation_dict[nb_enf][year].calculate_add(\"rbg\", period = year)[np.where(gain<gain[-1])[0][-1]]))\n",
    "    df[year] =s \n",
    "#df.reset_index(inplace = True, drop = True);df.index.name = \"Nb child\" ;\n",
    "df.index = list(range(1,7));df.index.name = \"Children #\""
   ]
  },
  {
   "cell_type": "code",
   "execution_count": null,
   "metadata": {},
   "outputs": [],
   "source": [
    "df"
   ]
  },
  {
   "cell_type": "code",
   "execution_count": null,
   "metadata": {},
   "outputs": [],
   "source": [
    "print(df.to_html())"
   ]
  },
  {
   "cell_type": "code",
   "execution_count": null,
   "metadata": {},
   "outputs": [],
   "source": []
  }
 ],
 "metadata": {
  "kernelspec": {
   "display_name": "Python 3",
   "language": "python",
   "name": "python3"
  },
  "language_info": {
   "codemirror_mode": {
    "name": "ipython",
    "version": 3
   },
   "file_extension": ".py",
   "mimetype": "text/x-python",
   "name": "python",
   "nbconvert_exporter": "python",
   "pygments_lexer": "ipython3",
   "version": "3.7.0"
  }
 },
 "nbformat": 4,
 "nbformat_minor": 2
}
